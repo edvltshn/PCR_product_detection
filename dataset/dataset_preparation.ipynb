{
 "cells": [
  {
   "cell_type": "code",
   "execution_count": 1,
   "id": "c03317a2-1822-4955-8264-7cdb239037e0",
   "metadata": {},
   "outputs": [],
   "source": [
    "import os\n",
    "import random\n",
    "import shutil\n",
    "from PIL import Image, ImageOps\n",
    "from tqdm.notebook import tqdm\n"
   ]
  },
  {
   "cell_type": "markdown",
   "id": "120230ea-8ea6-4c0c-9bb5-2fc5e28a144c",
   "metadata": {},
   "source": [
    "## Dataset preprocessing"
   ]
  },
  {
   "cell_type": "code",
   "execution_count": 2,
   "id": "90bda892-550a-477d-bb33-a1c4c07059ea",
   "metadata": {},
   "outputs": [],
   "source": [
    "# Путь к папке с файлами\n",
    "directory = 'dataset/'\n",
    "\n",
    "files = os.listdir(directory)"
   ]
  },
  {
   "cell_type": "markdown",
   "id": "cfa8ef8a-3be2-47cf-a680-2f27dd33216f",
   "metadata": {},
   "source": [
    "### Приведём имена файлов к одному виду"
   ]
  },
  {
   "cell_type": "code",
   "execution_count": 3,
   "id": "16159a71-62a9-42d4-9207-c8a8c3a6f473",
   "metadata": {},
   "outputs": [
    {
     "data": {
      "application/vnd.jupyter.widget-view+json": {
       "model_id": "c2371c9096524fe7aa6c339354839d5a",
       "version_major": 2,
       "version_minor": 0
      },
      "text/plain": [
       "  0%|          | 0/1108 [00:00<?, ?it/s]"
      ]
     },
     "metadata": {},
     "output_type": "display_data"
    },
    {
     "data": {
      "application/vnd.jupyter.widget-view+json": {
       "model_id": "3c196164b55d4973b8445e474efac260",
       "version_major": 2,
       "version_minor": 0
      },
      "text/plain": [
       "  0%|          | 0/1108 [00:00<?, ?it/s]"
      ]
     },
     "metadata": {},
     "output_type": "display_data"
    },
    {
     "data": {
      "application/vnd.jupyter.widget-view+json": {
       "model_id": "6b4d214c88e04c99a581e05d091238e8",
       "version_major": 2,
       "version_minor": 0
      },
      "text/plain": [
       "  0%|          | 0/1108 [00:00<?, ?it/s]"
      ]
     },
     "metadata": {},
     "output_type": "display_data"
    },
    {
     "name": "stdout",
     "output_type": "stream",
     "text": [
      "Файлы успешно обработаны и переименованы.\n"
     ]
    }
   ],
   "source": [
    "def process_and_rename(files, class_prefix):\n",
    "    \n",
    "    counter = 1\n",
    "    \n",
    "    for file_name in tqdm(files):\n",
    "        if file_name.startswith(class_prefix):\n",
    "            new_file_name = f\"{class_prefix}_{counter:04d}.jpg\"\n",
    "            os.rename(os.path.join(directory, file_name), os.path.join(directory, new_file_name))\n",
    "\n",
    "            counter += 1\n",
    "\n",
    "\n",
    "process_and_rename(files, 'no')\n",
    "process_and_rename(files, 'r')\n",
    "process_and_rename(files, 'yes')\n",
    "\n",
    "print(\"Файлы успешно обработаны и переименованы.\")\n"
   ]
  },
  {
   "cell_type": "markdown",
   "id": "6b408370-b467-4b1c-a35b-5bf2d9fae53b",
   "metadata": {},
   "source": [
    "### Найдём наименьшие размеры файлов по каждому из измерений и приведем все файлы к одному размеру"
   ]
  },
  {
   "cell_type": "code",
   "execution_count": 4,
   "id": "db751d5a-5f0c-44f0-b09e-db0e3055d8d2",
   "metadata": {},
   "outputs": [
    {
     "data": {
      "application/vnd.jupyter.widget-view+json": {
       "model_id": "164aa0f2b2d34ca1b9b5f7811636c013",
       "version_major": 2,
       "version_minor": 0
      },
      "text/plain": [
       "Определение наименьшего размера изображений:   0%|          | 0/1108 [00:00<?, ?it/s]"
      ]
     },
     "metadata": {},
     "output_type": "display_data"
    },
    {
     "name": "stdout",
     "output_type": "stream",
     "text": [
      "Наименьший размер изображения: 20x136\n"
     ]
    }
   ],
   "source": [
    "min_width = float('inf')\n",
    "min_height = float('inf')\n",
    "\n",
    "files = [f for f in os.listdir(directory) if f.endswith('.jpg')]\n",
    "\n",
    "# Проход по всем файлам для определения наименьшего размера\n",
    "for file_name in tqdm(files, desc=\"Определение наименьшего размера изображений\"):\n",
    "    with Image.open(os.path.join(directory, file_name)) as img:\n",
    "        width, height = img.size\n",
    "        min_width = min(min_width, width)\n",
    "        min_height = min(min_height, height)\n",
    "\n",
    "print(f\"Наименьший размер изображения: {min_width}x{min_height}\")\n"
   ]
  },
  {
   "cell_type": "markdown",
   "id": "fc6d9706-da13-4fd5-891f-3883eae55910",
   "metadata": {},
   "source": [
    "### Заодно приведём изображения к оттенкам серого"
   ]
  },
  {
   "cell_type": "code",
   "execution_count": 5,
   "id": "6272e0d1-0afb-4a7b-afa0-5880cfa3606f",
   "metadata": {},
   "outputs": [
    {
     "data": {
      "application/vnd.jupyter.widget-view+json": {
       "model_id": "59dd57b0af96468bb23a56272bc81305",
       "version_major": 2,
       "version_minor": 0
      },
      "text/plain": [
       "Изменение размеров и преобразование в grayscale:   0%|          | 0/1108 [00:00<?, ?it/s]"
      ]
     },
     "metadata": {},
     "output_type": "display_data"
    },
    {
     "name": "stdout",
     "output_type": "stream",
     "text": [
      "Все изображения приведены к оттенкам серого, изменены в размере и сохранены.\n"
     ]
    }
   ],
   "source": [
    "for file_name in tqdm(files, desc=\"Изменение размеров и преобразование в grayscale\"):\n",
    "    with Image.open(os.path.join(directory, file_name)) as img:\n",
    "        # Преобразование изображения в оттенки серого\n",
    "        img_gray = img.convert('L')\n",
    "        \n",
    "        # Изменение размера изображения с использованием LANCZOS\n",
    "        img_resized = img_gray.resize((min_width, min_height), Image.Resampling.LANCZOS)\n",
    "\n",
    "        img_resized.save(os.path.join(directory, file_name))\n",
    "\n",
    "print(\"Все изображения приведены к оттенкам серого, изменены в размере и сохранены.\")\n",
    "\n"
   ]
  },
  {
   "cell_type": "markdown",
   "id": "f8b942b9-2d25-450c-a862-6cd0d694aa00",
   "metadata": {},
   "source": [
    "### Выведем по несколько изображений каждого класса, визуально оценим, что всё ок"
   ]
  },
  {
   "cell_type": "code",
   "execution_count": 6,
   "id": "71bd64dc-1316-4a1e-a68f-04169b788fb3",
   "metadata": {},
   "outputs": [
    {
     "data": {
      "text/html": [
       "<h2>Класс: no</h2><div style=\"display:flex; flex-direction:row; justify-content:space-between;\"><img src=\"dataset/no_0001.jpg\" style=\"align:auto; margin: 5px\"/><img src=\"dataset/no_0002.jpg\" style=\"align:auto; margin: 5px\"/><img src=\"dataset/no_0003.jpg\" style=\"align:auto; margin: 5px\"/><img src=\"dataset/no_0004.jpg\" style=\"align:auto; margin: 5px\"/><img src=\"dataset/no_0005.jpg\" style=\"align:auto; margin: 5px\"/><img src=\"dataset/no_0006.jpg\" style=\"align:auto; margin: 5px\"/><img src=\"dataset/no_0007.jpg\" style=\"align:auto; margin: 5px\"/><img src=\"dataset/no_0008.jpg\" style=\"align:auto; margin: 5px\"/><img src=\"dataset/no_0009.jpg\" style=\"align:auto; margin: 5px\"/><img src=\"dataset/no_0010.jpg\" style=\"align:auto; margin: 5px\"/><img src=\"dataset/no_0011.jpg\" style=\"align:auto; margin: 5px\"/><img src=\"dataset/no_0012.jpg\" style=\"align:auto; margin: 5px\"/><img src=\"dataset/no_0013.jpg\" style=\"align:auto; margin: 5px\"/><img src=\"dataset/no_0014.jpg\" style=\"align:auto; margin: 5px\"/><img src=\"dataset/no_0015.jpg\" style=\"align:auto; margin: 5px\"/><img src=\"dataset/no_0016.jpg\" style=\"align:auto; margin: 5px\"/><img src=\"dataset/no_0017.jpg\" style=\"align:auto; margin: 5px\"/><img src=\"dataset/no_0018.jpg\" style=\"align:auto; margin: 5px\"/><img src=\"dataset/no_0019.jpg\" style=\"align:auto; margin: 5px\"/><img src=\"dataset/no_0020.jpg\" style=\"align:auto; margin: 5px\"/></div>"
      ],
      "text/plain": [
       "<IPython.core.display.HTML object>"
      ]
     },
     "metadata": {},
     "output_type": "display_data"
    },
    {
     "data": {
      "text/html": [
       "<h2>Класс: r</h2><div style=\"display:flex; flex-direction:row; justify-content:space-between;\"><img src=\"dataset/r_0001.jpg\" style=\"align:auto; margin: 5px\"/><img src=\"dataset/r_0002.jpg\" style=\"align:auto; margin: 5px\"/><img src=\"dataset/r_0003.jpg\" style=\"align:auto; margin: 5px\"/><img src=\"dataset/r_0004.jpg\" style=\"align:auto; margin: 5px\"/><img src=\"dataset/r_0005.jpg\" style=\"align:auto; margin: 5px\"/><img src=\"dataset/r_0006.jpg\" style=\"align:auto; margin: 5px\"/><img src=\"dataset/r_0007.jpg\" style=\"align:auto; margin: 5px\"/><img src=\"dataset/r_0008.jpg\" style=\"align:auto; margin: 5px\"/><img src=\"dataset/r_0009.jpg\" style=\"align:auto; margin: 5px\"/><img src=\"dataset/r_0010.jpg\" style=\"align:auto; margin: 5px\"/><img src=\"dataset/r_0011.jpg\" style=\"align:auto; margin: 5px\"/><img src=\"dataset/r_0012.jpg\" style=\"align:auto; margin: 5px\"/><img src=\"dataset/r_0013.jpg\" style=\"align:auto; margin: 5px\"/><img src=\"dataset/r_0014.jpg\" style=\"align:auto; margin: 5px\"/><img src=\"dataset/r_0015.jpg\" style=\"align:auto; margin: 5px\"/><img src=\"dataset/r_0016.jpg\" style=\"align:auto; margin: 5px\"/><img src=\"dataset/r_0017.jpg\" style=\"align:auto; margin: 5px\"/><img src=\"dataset/r_0018.jpg\" style=\"align:auto; margin: 5px\"/><img src=\"dataset/r_0019.jpg\" style=\"align:auto; margin: 5px\"/><img src=\"dataset/r_0020.jpg\" style=\"align:auto; margin: 5px\"/></div>"
      ],
      "text/plain": [
       "<IPython.core.display.HTML object>"
      ]
     },
     "metadata": {},
     "output_type": "display_data"
    },
    {
     "data": {
      "text/html": [
       "<h2>Класс: yes</h2><div style=\"display:flex; flex-direction:row; justify-content:space-between;\"><img src=\"dataset/yes_0001.jpg\" style=\"align:auto; margin: 5px\"/><img src=\"dataset/yes_0002.jpg\" style=\"align:auto; margin: 5px\"/><img src=\"dataset/yes_0003.jpg\" style=\"align:auto; margin: 5px\"/><img src=\"dataset/yes_0004.jpg\" style=\"align:auto; margin: 5px\"/><img src=\"dataset/yes_0005.jpg\" style=\"align:auto; margin: 5px\"/><img src=\"dataset/yes_0006.jpg\" style=\"align:auto; margin: 5px\"/><img src=\"dataset/yes_0007.jpg\" style=\"align:auto; margin: 5px\"/><img src=\"dataset/yes_0008.jpg\" style=\"align:auto; margin: 5px\"/><img src=\"dataset/yes_0009.jpg\" style=\"align:auto; margin: 5px\"/><img src=\"dataset/yes_0010.jpg\" style=\"align:auto; margin: 5px\"/><img src=\"dataset/yes_0011.jpg\" style=\"align:auto; margin: 5px\"/><img src=\"dataset/yes_0012.jpg\" style=\"align:auto; margin: 5px\"/><img src=\"dataset/yes_0013.jpg\" style=\"align:auto; margin: 5px\"/><img src=\"dataset/yes_0014.jpg\" style=\"align:auto; margin: 5px\"/><img src=\"dataset/yes_0015.jpg\" style=\"align:auto; margin: 5px\"/><img src=\"dataset/yes_0016.jpg\" style=\"align:auto; margin: 5px\"/><img src=\"dataset/yes_0017.jpg\" style=\"align:auto; margin: 5px\"/><img src=\"dataset/yes_0018.jpg\" style=\"align:auto; margin: 5px\"/><img src=\"dataset/yes_0019.jpg\" style=\"align:auto; margin: 5px\"/><img src=\"dataset/yes_0020.jpg\" style=\"align:auto; margin: 5px\"/></div>"
      ],
      "text/plain": [
       "<IPython.core.display.HTML object>"
      ]
     },
     "metadata": {},
     "output_type": "display_data"
    }
   ],
   "source": [
    "from IPython.display import display, HTML\n",
    "\n",
    "classes = ['no', 'r', 'yes']\n",
    "\n",
    "num_images_to_show = 20\n",
    "for class_name in classes:\n",
    "    class_files = [f for f in files if f.startswith(class_name)]\n",
    "    \n",
    "    html_str = f\"<h2>Класс: {class_name}</h2>\"\n",
    "    html_str += '<div style=\"display:flex; flex-direction:row; justify-content:space-between;\">'\n",
    "    for file_name in class_files[:num_images_to_show]:\n",
    "        img_path = os.path.join(directory, file_name)\n",
    "        html_str += f'<img src=\"{img_path}\" style=\"align:auto; margin: 5px\"/>'\n",
    "    html_str += '</div>'\n",
    "    \n",
    "    display(HTML(html_str))\n"
   ]
  },
  {
   "cell_type": "markdown",
   "id": "ea291278-c45f-4d21-ad83-863cc5041360",
   "metadata": {},
   "source": [
    "### Выведем количество изображений каждого класса"
   ]
  },
  {
   "cell_type": "code",
   "execution_count": 7,
   "id": "b9043183-4482-47cf-94b8-cedea238f20f",
   "metadata": {},
   "outputs": [
    {
     "name": "stdout",
     "output_type": "stream",
     "text": [
      "Количество изображений по классам:\n",
      "Класс 'no': 171 изображений\n",
      "Класс 'r': 128 изображений\n",
      "Класс 'yes': 809 изображений\n"
     ]
    }
   ],
   "source": [
    "class_counts = {}\n",
    "\n",
    "for f in files:\n",
    "    class_name = f.split('_')[0]\n",
    "    if class_name in class_counts:\n",
    "        class_counts[class_name] += 1\n",
    "    else:\n",
    "        class_counts[class_name] = 1\n",
    "\n",
    "print(\"Количество изображений по классам:\")\n",
    "for class_name, count in class_counts.items():\n",
    "    print(f\"Класс '{class_name}': {count} изображений\")"
   ]
  },
  {
   "cell_type": "markdown",
   "id": "882a9ab3-f5b6-4c0e-987b-480bb9b091a9",
   "metadata": {},
   "source": [
    "### Сбалансируем классы."
   ]
  },
  {
   "cell_type": "markdown",
   "id": "7c2ac417-edd6-441a-b567-66bb6b0b380c",
   "metadata": {},
   "source": [
    "Для классов где не хватает изображений - добавим аугментированные изображения, для класса где изображений слишком много - удалим случайную выборку изображений."
   ]
  },
  {
   "cell_type": "code",
   "execution_count": 8,
   "id": "3d3583d6-d7ae-4eb6-957f-693456089eea",
   "metadata": {},
   "outputs": [
    {
     "data": {
      "application/vnd.jupyter.widget-view+json": {
       "model_id": "8831286667c84a00b4b2717a63adcde9",
       "version_major": 2,
       "version_minor": 0
      },
      "text/plain": [
       "Augmenting class 'no':   0%|          | 0/330 [00:00<?, ?it/s]"
      ]
     },
     "metadata": {},
     "output_type": "display_data"
    },
    {
     "data": {
      "application/vnd.jupyter.widget-view+json": {
       "model_id": "fe64a5eebfc647b0a712ebe7b8d7b5fb",
       "version_major": 2,
       "version_minor": 0
      },
      "text/plain": [
       "Augmenting class 'r':   0%|          | 0/373 [00:00<?, ?it/s]"
      ]
     },
     "metadata": {},
     "output_type": "display_data"
    },
    {
     "data": {
      "application/vnd.jupyter.widget-view+json": {
       "model_id": "cfe09bccf71a42a696dffc1c32c8e049",
       "version_major": 2,
       "version_minor": 0
      },
      "text/plain": [
       "Undersampling для класса 'yes':   0%|          | 0/309 [00:00<?, ?it/s]"
      ]
     },
     "metadata": {},
     "output_type": "display_data"
    }
   ],
   "source": [
    "random.seed(42)\n",
    "\n",
    "source_directory = directory\n",
    "target_directory = 'augmented_dataset'\n",
    "\n",
    "if not os.path.exists(target_directory):\n",
    "    os.makedirs(target_directory)\n",
    "\n",
    "for file_name in os.listdir(source_directory):\n",
    "    source_path = os.path.join(source_directory, file_name)\n",
    "    target_path = os.path.join(target_directory, file_name)\n",
    "    if not os.path.exists(target_path):\n",
    "        shutil.copy2(source_path, target_path)\n",
    "\n",
    "target_count = 500 # Целевое количество изображений в каждом классе\n",
    "\n",
    "def augment_image(image):\n",
    "    aug_images = []\n",
    "    aug_images.append(ImageOps.mirror(image))\n",
    "    aug_images.append(ImageOps.flip(image))\n",
    "    return aug_images\n",
    "\n",
    "for class_name in ['no', 'r', 'yes']:\n",
    "    class_files = [f for f in os.listdir(target_directory) if f.startswith(class_name)]\n",
    "    num_files_needed = target_count - len(class_files)\n",
    "    \n",
    "    if num_files_needed > 0:  # Если нужны дополнительные изображения\n",
    "        for i in tqdm(range(num_files_needed + 1), desc=f\"Augmenting class '{class_name}'\"):\n",
    "            file_to_augment = random.choice(class_files)\n",
    "            with Image.open(os.path.join(target_directory, file_to_augment)) as img:\n",
    "                new_img = random.choice(augment_image(img))\n",
    "                new_file_name = f\"{class_name}_{len(class_files)+i:04d}.jpg\"\n",
    "                new_img.save(os.path.join(target_directory, new_file_name))\n",
    "\n",
    "    elif num_files_needed < 0:\n",
    "        files_to_remove = random.sample(class_files, len(class_files) - target_count)\n",
    "        for file_name in tqdm(files_to_remove, desc=f\"Undersampling для класса '{class_name}'\"):\n",
    "            os.remove(os.path.join(target_directory, file_name))"
   ]
  },
  {
   "cell_type": "markdown",
   "id": "4464c784-c134-44fa-bf0c-f9460f7536a2",
   "metadata": {},
   "source": [
    "### Выведем количество примеров каждого класса после балансировки"
   ]
  },
  {
   "cell_type": "code",
   "execution_count": 9,
   "id": "cf97ca81-fb6f-4ac1-ab2d-1c9d60a57663",
   "metadata": {},
   "outputs": [
    {
     "name": "stdout",
     "output_type": "stream",
     "text": [
      "Количество изображений по классам:\n",
      "Класс 'no': 500 изображений\n",
      "Класс 'r': 500 изображений\n",
      "Класс 'yes': 500 изображений\n"
     ]
    }
   ],
   "source": [
    "aug_files = os.listdir(target_directory)\n",
    "\n",
    "class_counts = {}\n",
    "\n",
    "for f in aug_files:\n",
    "    class_name = f.split('_')[0]\n",
    "    if class_name in class_counts:\n",
    "        class_counts[class_name] += 1\n",
    "    else:\n",
    "        class_counts[class_name] = 1\n",
    "\n",
    "print(\"Количество изображений по классам:\")\n",
    "for class_name, count in class_counts.items():\n",
    "    print(f\"Класс '{class_name}': {count} изображений\")"
   ]
  },
  {
   "cell_type": "markdown",
   "id": "726940eb-0a8e-4ae0-8d3d-e35a85c9c2b6",
   "metadata": {},
   "source": [
    "## Датасет предобработан, сбалансирован и готов к использованию для тренировки модели."
   ]
  },
  {
   "cell_type": "code",
   "execution_count": null,
   "id": "fc71203c-e33a-45ff-b7f5-b5a8c1e3d58e",
   "metadata": {},
   "outputs": [],
   "source": []
  }
 ],
 "metadata": {
  "kernelspec": {
   "display_name": "Python 3 (ipykernel)",
   "language": "python",
   "name": "python3"
  },
  "language_info": {
   "codemirror_mode": {
    "name": "ipython",
    "version": 3
   },
   "file_extension": ".py",
   "mimetype": "text/x-python",
   "name": "python",
   "nbconvert_exporter": "python",
   "pygments_lexer": "ipython3",
   "version": "3.10.13"
  }
 },
 "nbformat": 4,
 "nbformat_minor": 5
}
