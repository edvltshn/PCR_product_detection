{
 "cells": [
  {
   "cell_type": "markdown",
   "id": "ba9c2ff6-f18f-4323-aeb4-b825be49b8fa",
   "metadata": {},
   "source": [
    "# Baseline model training"
   ]
  },
  {
   "cell_type": "code",
   "execution_count": 1,
   "id": "98746c2f-1b9b-4ba7-b63e-aa1765499c4c",
   "metadata": {},
   "outputs": [],
   "source": [
    "# обучение\n",
    "import torch\n",
    "import torch.nn as nn\n",
    "import torch.optim as optim\n",
    "import torchvision.transforms as transforms\n",
    "\n",
    "from PIL import Image\n",
    "from torch.utils.data import Dataset, DataLoader\n",
    "from efficientnet_pytorch import EfficientNet\n",
    "from sklearn.metrics import precision_score, recall_score, f1_score, accuracy_score\n",
    "\n",
    "# utils\n",
    "import os\n",
    "from tqdm.notebook import tqdm"
   ]
  },
  {
   "cell_type": "code",
   "execution_count": 2,
   "id": "b97522ac-f0b5-496d-8cdf-6c480a37ea02",
   "metadata": {},
   "outputs": [
    {
     "name": "stdout",
     "output_type": "stream",
     "text": [
      "Is CUDA available:  True\n",
      "CUDA version:  11.7\n"
     ]
    }
   ],
   "source": [
    "# проверяем доступность видеодрайвера\n",
    "\n",
    "print(\"Is CUDA available: \", torch.cuda.is_available())\n",
    "print(\"CUDA version: \", torch.version.cuda)"
   ]
  },
  {
   "cell_type": "code",
   "execution_count": 6,
   "id": "5d5d77bb-2f6d-4703-9c11-704ed196e9fc",
   "metadata": {},
   "outputs": [],
   "source": [
    "# разделим данные на трейн и тест\n",
    "import shutil\n",
    "from sklearn.model_selection import train_test_split\n",
    "\n",
    "# Директория с балансированными данными\n",
    "balanced_directory = '../dataset/augmented_dataset/'\n",
    "\n",
    "# Директории для тренировочных и тестовых данных\n",
    "train_directory = os.path.join('dataset/', 'train')\n",
    "test_directory = os.path.join('dataset/', 'test')\n",
    "\n",
    "# Создаем директории, если они не существуют\n",
    "os.makedirs(train_directory, exist_ok=True)\n",
    "os.makedirs(test_directory, exist_ok=True)\n",
    "\n"
   ]
  },
  {
   "cell_type": "code",
   "execution_count": 7,
   "id": "90d6525b-8376-45fb-8736-c9b91196bd35",
   "metadata": {},
   "outputs": [
    {
     "name": "stdout",
     "output_type": "stream",
     "text": [
      "Данные разделены на тренировочные и тестовые наборы.\n"
     ]
    }
   ],
   "source": [
    "# Разделение данных и сохранение в соответствующие папки\n",
    "for class_name in ['no', 'r', 'yes']:\n",
    "    # Получаем список файлов для текущего класса\n",
    "    files = [f for f in os.listdir(balanced_directory) if f.startswith(class_name)]\n",
    "    \n",
    "    # Разделяем файлы на тренировочные и тестовые\n",
    "    train_files, test_files = train_test_split(files, test_size=0.2, random_state=42)\n",
    "    \n",
    "    # Функция для копирования файлов в соответствующую директорию\n",
    "    def copy_files(files, directory):\n",
    "        class_dir = os.path.join(directory, class_name)\n",
    "        os.makedirs(class_dir, exist_ok=True)\n",
    "        for f in files:\n",
    "            shutil.copy2(os.path.join(balanced_directory, f), os.path.join(class_dir, f))\n",
    "    \n",
    "    # Копируем файлы в тренировочную и тестовую директории\n",
    "    copy_files(train_files, train_directory)\n",
    "    copy_files(test_files, test_directory)\n",
    "\n",
    "print(\"Данные разделены на тренировочные и тестовые наборы.\")\n"
   ]
  },
  {
   "cell_type": "code",
   "execution_count": 3,
   "id": "1733eb30-1d56-42c9-8f39-116d81266063",
   "metadata": {},
   "outputs": [],
   "source": [
    "# фиксируем гиперпараметры предстоящего эксперимента\n",
    "\n",
    "batch_size = 64\n",
    "learning_rate = 0.001\n",
    "num_epochs = 10\n",
    "\n",
    "# будет также использоваться позднее при сохранении модели и чекпоинтов, обязательно менять перед началом нового эксперимента!\n",
    "experiment_name = f'EffNetB7_batchsize_{batch_size}_lr_{learning_rate}_epochs_{num_epochs}' \n",
    "\n",
    "# создаем папку, куда будем сохранять чекпоинты, веса и метрики\n",
    "exp_dir_path = f\"experiments/{experiment_name}\"\n",
    "os.makedirs(exp_dir_path, exist_ok=True)"
   ]
  },
  {
   "cell_type": "code",
   "execution_count": 4,
   "id": "0f56dee9-8997-4389-bebc-ca232ed0ca23",
   "metadata": {},
   "outputs": [],
   "source": [
    "class ImageDataset(Dataset):\n",
    "    def __init__(self, root_dir, transform=None):\n",
    "        self.root_dir = root_dir\n",
    "        self.transform = transform\n",
    "        self.classes = os.listdir(root_dir)\n",
    "        self.files = []\n",
    "        for class_name in self.classes:\n",
    "            class_dir = os.path.join(root_dir, class_name)\n",
    "            self.files += [(os.path.join(class_dir, f), class_name) for f in os.listdir(class_dir)]\n",
    "\n",
    "    def __len__(self):\n",
    "        return len(self.files)\n",
    "\n",
    "    def __getitem__(self, idx):\n",
    "        img_path, class_name = self.files[idx]\n",
    "        image = Image.open(img_path).convert('L')\n",
    "        if self.transform:\n",
    "            image = self.transform(image)\n",
    "        return image, self.classes.index(class_name)"
   ]
  },
  {
   "cell_type": "code",
   "execution_count": 18,
   "id": "70412fe8-0a22-4a07-809f-3cf078b9e0ab",
   "metadata": {},
   "outputs": [],
   "source": [
    "transform = transforms.Compose([\n",
    "    transforms.Resize((48, 48)),\n",
    "    transforms.Grayscale(num_output_channels=3),\n",
    "    transforms.ToTensor(),\n",
    "    transforms.Normalize((0.5, 0.5, 0.5), (0.5, 0.5, 0.5))  # normalize to [-1, 1] for each channel\n",
    "])\n"
   ]
  },
  {
   "cell_type": "code",
   "execution_count": 19,
   "id": "7a766ecb-7211-4152-bdde-dd6687bd9219",
   "metadata": {},
   "outputs": [],
   "source": [
    "train_data = ImageDataset('dataset/train/', transform=transform)\n",
    "test_data = ImageDataset('dataset/test/', transform=transform)"
   ]
  },
  {
   "cell_type": "code",
   "execution_count": 20,
   "id": "0b46495d-37b7-4e39-8917-601c27ee4feb",
   "metadata": {},
   "outputs": [],
   "source": [
    "train_loader = DataLoader(train_data, batch_size=batch_size, shuffle=True, num_workers=8)\n",
    "test_loader = DataLoader(test_data, batch_size=batch_size, shuffle=True, num_workers=8)"
   ]
  },
  {
   "cell_type": "code",
   "execution_count": 10,
   "id": "ec18acd3-4ee3-439c-8a02-b437a78c8e79",
   "metadata": {},
   "outputs": [
    {
     "name": "stdout",
     "output_type": "stream",
     "text": [
      "Loaded pretrained weights for efficientnet-b7\n"
     ]
    }
   ],
   "source": [
    "model = EfficientNet.from_pretrained('efficientnet-b7')\n",
    "num_ftrs = model._fc.in_features\n",
    "model._fc = nn.Linear(num_ftrs, len(train_data.classes))"
   ]
  },
  {
   "cell_type": "code",
   "execution_count": 11,
   "id": "95d47912-527e-4bc7-832a-d690fa0d604e",
   "metadata": {},
   "outputs": [],
   "source": [
    "criterion = nn.CrossEntropyLoss()\n",
    "optimizer = optim.Adam(model.parameters(), lr=learning_rate)\n",
    "scheduler = torch.optim.lr_scheduler.ReduceLROnPlateau(optimizer, mode='min', factor=0.1, patience=5)"
   ]
  },
  {
   "cell_type": "code",
   "execution_count": 21,
   "id": "77b90ac1-95e4-42d1-8b00-b8d482a31e42",
   "metadata": {},
   "outputs": [
    {
     "name": "stdout",
     "output_type": "stream",
     "text": [
      "loading model to device\n",
      "model loaded\n",
      "Using NVIDIA GeForce RTX 3070 Laptop GPU\n"
     ]
    },
    {
     "data": {
      "application/vnd.jupyter.widget-view+json": {
       "model_id": "",
       "version_major": 2,
       "version_minor": 0
      },
      "text/plain": [
       "  0%|          | 0/19 [00:00<?, ?it/s]"
      ]
     },
     "metadata": {},
     "output_type": "display_data"
    },
    {
     "name": "stderr",
     "output_type": "stream",
     "text": [
      "Exception ignored in: Exception ignored in: Exception ignored in: <function _MultiProcessingDataLoaderIter.__del__ at 0x7f7ffc149000><function _MultiProcessingDataLoaderIter.__del__ at 0x7f7ffc149000><function _MultiProcessingDataLoaderIter.__del__ at 0x7f7ffc149000>\n",
      "\n",
      "\n",
      "Traceback (most recent call last):\n",
      "Traceback (most recent call last):\n",
      "  File \"/mnt/c/Users/edavletshin/courses/PISH DDE/PCR_product_detection/venv/lib/python3.10/site-packages/torch/utils/data/dataloader.py\", line 1478, in __del__\n",
      "  File \"/mnt/c/Users/edavletshin/courses/PISH DDE/PCR_product_detection/venv/lib/python3.10/site-packages/torch/utils/data/dataloader.py\", line 1478, in __del__\n",
      "Traceback (most recent call last):\n",
      "  File \"/mnt/c/Users/edavletshin/courses/PISH DDE/PCR_product_detection/venv/lib/python3.10/site-packages/torch/utils/data/dataloader.py\", line 1478, in __del__\n",
      "    self._shutdown_workers()        self._shutdown_workers()self._shutdown_workers()\n",
      "\n",
      "  File \"/mnt/c/Users/edavletshin/courses/PISH DDE/PCR_product_detection/venv/lib/python3.10/site-packages/torch/utils/data/dataloader.py\", line 1461, in _shutdown_workers\n",
      "  File \"/mnt/c/Users/edavletshin/courses/PISH DDE/PCR_product_detection/venv/lib/python3.10/site-packages/torch/utils/data/dataloader.py\", line 1461, in _shutdown_workers\n",
      "\n",
      "  File \"/mnt/c/Users/edavletshin/courses/PISH DDE/PCR_product_detection/venv/lib/python3.10/site-packages/torch/utils/data/dataloader.py\", line 1461, in _shutdown_workers\n",
      "        if w.is_alive():if w.is_alive():\n",
      "\n",
      "  File \"/home/edavletshin/.pyenv/versions/3.10.13/lib/python3.10/multiprocessing/process.py\", line 160, in is_alive\n",
      "  File \"/home/edavletshin/.pyenv/versions/3.10.13/lib/python3.10/multiprocessing/process.py\", line 160, in is_alive\n",
      "            if w.is_alive():\n",
      "  File \"/home/edavletshin/.pyenv/versions/3.10.13/lib/python3.10/multiprocessing/process.py\", line 160, in is_alive\n",
      "assert self._parent_pid == os.getpid(), 'can only test a child process'\n",
      "    AssertionErrorassert self._parent_pid == os.getpid(), 'can only test a child process': \n",
      "can only test a child processAssertionError\n",
      ": can only test a child process\n",
      "assert self._parent_pid == os.getpid(), 'can only test a child process'\n",
      "AssertionError: can only test a child process\n"
     ]
    },
    {
     "name": "stdout",
     "output_type": "stream",
     "text": [
      "\n",
      "Epoch 1, Loss: 0.5190, Accuracy: 0.7833, Precision: 0.7858, Recall: 0.7833, F1 Score: 0.7835\n"
     ]
    },
    {
     "data": {
      "application/vnd.jupyter.widget-view+json": {
       "model_id": "",
       "version_major": 2,
       "version_minor": 0
      },
      "text/plain": [
       "  0%|          | 0/5 [00:00<?, ?it/s]"
      ]
     },
     "metadata": {},
     "output_type": "display_data"
    },
    {
     "name": "stdout",
     "output_type": "stream",
     "text": [
      "Test Loss: 23.4254, Test Accuracy: 0.3333, Test Precision: 0.1111, Test Recall: 0.3333, Test F1 Score: 0.1667\n"
     ]
    },
    {
     "name": "stderr",
     "output_type": "stream",
     "text": [
      "/mnt/c/Users/edavletshin/courses/PISH DDE/PCR_product_detection/venv/lib/python3.10/site-packages/sklearn/metrics/_classification.py:1469: UndefinedMetricWarning: Precision is ill-defined and being set to 0.0 in labels with no predicted samples. Use `zero_division` parameter to control this behavior.\n",
      "  _warn_prf(average, modifier, msg_start, len(result))\n",
      "/mnt/c/Users/edavletshin/courses/PISH DDE/PCR_product_detection/venv/lib/python3.10/site-packages/sklearn/metrics/_classification.py:1469: UndefinedMetricWarning: Precision is ill-defined and being set to 0.0 in labels with no predicted samples. Use `zero_division` parameter to control this behavior.\n",
      "  _warn_prf(average, modifier, msg_start, len(result))\n"
     ]
    },
    {
     "data": {
      "application/vnd.jupyter.widget-view+json": {
       "model_id": "",
       "version_major": 2,
       "version_minor": 0
      },
      "text/plain": [
       "  0%|          | 0/19 [00:00<?, ?it/s]"
      ]
     },
     "metadata": {},
     "output_type": "display_data"
    },
    {
     "name": "stdout",
     "output_type": "stream",
     "text": [
      "\n",
      "Epoch 2, Loss: 0.1299, Accuracy: 0.9658, Precision: 0.9661, Recall: 0.9658, F1 Score: 0.9658\n"
     ]
    },
    {
     "data": {
      "application/vnd.jupyter.widget-view+json": {
       "model_id": "",
       "version_major": 2,
       "version_minor": 0
      },
      "text/plain": [
       "  0%|          | 0/5 [00:00<?, ?it/s]"
      ]
     },
     "metadata": {},
     "output_type": "display_data"
    },
    {
     "name": "stdout",
     "output_type": "stream",
     "text": [
      "Test Loss: 7.8583, Test Accuracy: 0.3333, Test Precision: 0.1111, Test Recall: 0.3333, Test F1 Score: 0.1667\n"
     ]
    },
    {
     "name": "stderr",
     "output_type": "stream",
     "text": [
      "/mnt/c/Users/edavletshin/courses/PISH DDE/PCR_product_detection/venv/lib/python3.10/site-packages/sklearn/metrics/_classification.py:1469: UndefinedMetricWarning: Precision is ill-defined and being set to 0.0 in labels with no predicted samples. Use `zero_division` parameter to control this behavior.\n",
      "  _warn_prf(average, modifier, msg_start, len(result))\n",
      "/mnt/c/Users/edavletshin/courses/PISH DDE/PCR_product_detection/venv/lib/python3.10/site-packages/sklearn/metrics/_classification.py:1469: UndefinedMetricWarning: Precision is ill-defined and being set to 0.0 in labels with no predicted samples. Use `zero_division` parameter to control this behavior.\n",
      "  _warn_prf(average, modifier, msg_start, len(result))\n"
     ]
    },
    {
     "data": {
      "application/vnd.jupyter.widget-view+json": {
       "model_id": "",
       "version_major": 2,
       "version_minor": 0
      },
      "text/plain": [
       "  0%|          | 0/19 [00:00<?, ?it/s]"
      ]
     },
     "metadata": {},
     "output_type": "display_data"
    },
    {
     "name": "stdout",
     "output_type": "stream",
     "text": [
      "\n",
      "Epoch 3, Loss: 0.1487, Accuracy: 0.9550, Precision: 0.9550, Recall: 0.9550, F1 Score: 0.9549\n"
     ]
    },
    {
     "data": {
      "application/vnd.jupyter.widget-view+json": {
       "model_id": "",
       "version_major": 2,
       "version_minor": 0
      },
      "text/plain": [
       "  0%|          | 0/5 [00:00<?, ?it/s]"
      ]
     },
     "metadata": {},
     "output_type": "display_data"
    },
    {
     "name": "stdout",
     "output_type": "stream",
     "text": [
      "Test Loss: 2.2454, Test Accuracy: 0.4933, Test Precision: 0.7989, Test Recall: 0.4933, Test F1 Score: 0.4457\n"
     ]
    },
    {
     "data": {
      "application/vnd.jupyter.widget-view+json": {
       "model_id": "",
       "version_major": 2,
       "version_minor": 0
      },
      "text/plain": [
       "  0%|          | 0/19 [00:00<?, ?it/s]"
      ]
     },
     "metadata": {},
     "output_type": "display_data"
    },
    {
     "name": "stdout",
     "output_type": "stream",
     "text": [
      "\n",
      "Epoch 4, Loss: 0.0521, Accuracy: 0.9875, Precision: 0.9875, Recall: 0.9875, F1 Score: 0.9875\n"
     ]
    },
    {
     "data": {
      "application/vnd.jupyter.widget-view+json": {
       "model_id": "",
       "version_major": 2,
       "version_minor": 0
      },
      "text/plain": [
       "  0%|          | 0/5 [00:00<?, ?it/s]"
      ]
     },
     "metadata": {},
     "output_type": "display_data"
    },
    {
     "name": "stdout",
     "output_type": "stream",
     "text": [
      "Test Loss: 0.3913, Test Accuracy: 0.8767, Test Precision: 0.9100, Test Recall: 0.8767, Test F1 Score: 0.8759\n"
     ]
    },
    {
     "data": {
      "application/vnd.jupyter.widget-view+json": {
       "model_id": "",
       "version_major": 2,
       "version_minor": 0
      },
      "text/plain": [
       "  0%|          | 0/19 [00:00<?, ?it/s]"
      ]
     },
     "metadata": {},
     "output_type": "display_data"
    },
    {
     "name": "stdout",
     "output_type": "stream",
     "text": [
      "\n",
      "Epoch 5, Loss: 0.0219, Accuracy: 0.9950, Precision: 0.9950, Recall: 0.9950, F1 Score: 0.9950\n"
     ]
    },
    {
     "data": {
      "application/vnd.jupyter.widget-view+json": {
       "model_id": "",
       "version_major": 2,
       "version_minor": 0
      },
      "text/plain": [
       "  0%|          | 0/5 [00:00<?, ?it/s]"
      ]
     },
     "metadata": {},
     "output_type": "display_data"
    },
    {
     "name": "stdout",
     "output_type": "stream",
     "text": [
      "Test Loss: 0.2135, Test Accuracy: 0.9367, Test Precision: 0.9468, Test Recall: 0.9367, Test F1 Score: 0.9376\n"
     ]
    },
    {
     "data": {
      "application/vnd.jupyter.widget-view+json": {
       "model_id": "",
       "version_major": 2,
       "version_minor": 0
      },
      "text/plain": [
       "  0%|          | 0/19 [00:00<?, ?it/s]"
      ]
     },
     "metadata": {},
     "output_type": "display_data"
    },
    {
     "name": "stdout",
     "output_type": "stream",
     "text": [
      "\n",
      "Epoch 6, Loss: 0.0459, Accuracy: 0.9883, Precision: 0.9883, Recall: 0.9883, F1 Score: 0.9883\n"
     ]
    },
    {
     "data": {
      "application/vnd.jupyter.widget-view+json": {
       "model_id": "",
       "version_major": 2,
       "version_minor": 0
      },
      "text/plain": [
       "  0%|          | 0/5 [00:00<?, ?it/s]"
      ]
     },
     "metadata": {},
     "output_type": "display_data"
    },
    {
     "name": "stdout",
     "output_type": "stream",
     "text": [
      "Test Loss: 0.1166, Test Accuracy: 0.9733, Test Precision: 0.9742, Test Recall: 0.9733, Test F1 Score: 0.9734\n"
     ]
    },
    {
     "data": {
      "application/vnd.jupyter.widget-view+json": {
       "model_id": "",
       "version_major": 2,
       "version_minor": 0
      },
      "text/plain": [
       "  0%|          | 0/19 [00:00<?, ?it/s]"
      ]
     },
     "metadata": {},
     "output_type": "display_data"
    },
    {
     "name": "stdout",
     "output_type": "stream",
     "text": [
      "\n",
      "Epoch 7, Loss: 0.0352, Accuracy: 0.9917, Precision: 0.9918, Recall: 0.9917, F1 Score: 0.9917\n"
     ]
    },
    {
     "data": {
      "application/vnd.jupyter.widget-view+json": {
       "model_id": "",
       "version_major": 2,
       "version_minor": 0
      },
      "text/plain": [
       "  0%|          | 0/5 [00:00<?, ?it/s]"
      ]
     },
     "metadata": {},
     "output_type": "display_data"
    },
    {
     "name": "stdout",
     "output_type": "stream",
     "text": [
      "Test Loss: 0.1441, Test Accuracy: 0.9733, Test Precision: 0.9753, Test Recall: 0.9733, Test F1 Score: 0.9736\n"
     ]
    },
    {
     "data": {
      "application/vnd.jupyter.widget-view+json": {
       "model_id": "",
       "version_major": 2,
       "version_minor": 0
      },
      "text/plain": [
       "  0%|          | 0/19 [00:00<?, ?it/s]"
      ]
     },
     "metadata": {},
     "output_type": "display_data"
    },
    {
     "name": "stdout",
     "output_type": "stream",
     "text": [
      "\n",
      "Epoch 8, Loss: 0.0417, Accuracy: 0.9883, Precision: 0.9883, Recall: 0.9883, F1 Score: 0.9883\n"
     ]
    },
    {
     "data": {
      "application/vnd.jupyter.widget-view+json": {
       "model_id": "",
       "version_major": 2,
       "version_minor": 0
      },
      "text/plain": [
       "  0%|          | 0/5 [00:00<?, ?it/s]"
      ]
     },
     "metadata": {},
     "output_type": "display_data"
    },
    {
     "name": "stdout",
     "output_type": "stream",
     "text": [
      "Test Loss: 0.1427, Test Accuracy: 0.9800, Test Precision: 0.9807, Test Recall: 0.9800, Test F1 Score: 0.9800\n"
     ]
    },
    {
     "data": {
      "application/vnd.jupyter.widget-view+json": {
       "model_id": "",
       "version_major": 2,
       "version_minor": 0
      },
      "text/plain": [
       "  0%|          | 0/19 [00:00<?, ?it/s]"
      ]
     },
     "metadata": {},
     "output_type": "display_data"
    },
    {
     "name": "stdout",
     "output_type": "stream",
     "text": [
      "\n",
      "Epoch 9, Loss: 0.0210, Accuracy: 0.9950, Precision: 0.9950, Recall: 0.9950, F1 Score: 0.9950\n"
     ]
    },
    {
     "data": {
      "application/vnd.jupyter.widget-view+json": {
       "model_id": "",
       "version_major": 2,
       "version_minor": 0
      },
      "text/plain": [
       "  0%|          | 0/5 [00:00<?, ?it/s]"
      ]
     },
     "metadata": {},
     "output_type": "display_data"
    },
    {
     "name": "stdout",
     "output_type": "stream",
     "text": [
      "Test Loss: 0.0521, Test Accuracy: 0.9933, Test Precision: 0.9935, Test Recall: 0.9933, Test F1 Score: 0.9933\n"
     ]
    },
    {
     "data": {
      "application/vnd.jupyter.widget-view+json": {
       "model_id": "",
       "version_major": 2,
       "version_minor": 0
      },
      "text/plain": [
       "  0%|          | 0/19 [00:00<?, ?it/s]"
      ]
     },
     "metadata": {},
     "output_type": "display_data"
    },
    {
     "name": "stdout",
     "output_type": "stream",
     "text": [
      "\n",
      "Epoch 10, Loss: 0.0088, Accuracy: 0.9967, Precision: 0.9967, Recall: 0.9967, F1 Score: 0.9967\n"
     ]
    },
    {
     "data": {
      "application/vnd.jupyter.widget-view+json": {
       "model_id": "",
       "version_major": 2,
       "version_minor": 0
      },
      "text/plain": [
       "  0%|          | 0/5 [00:00<?, ?it/s]"
      ]
     },
     "metadata": {},
     "output_type": "display_data"
    },
    {
     "name": "stdout",
     "output_type": "stream",
     "text": [
      "Test Loss: 0.0443, Test Accuracy: 0.9900, Test Precision: 0.9901, Test Recall: 0.9900, Test F1 Score: 0.9900\n"
     ]
    }
   ],
   "source": [
    "device = torch.device(\"cuda:0\" if torch.cuda.is_available() else \"cpu\")\n",
    "\n",
    "print(\"loading model to device\")\n",
    "model = model.to(device)\n",
    "print(\"model loaded\")\n",
    "\n",
    "\n",
    "if torch.cuda.is_available():\n",
    "    print(f'Using {torch.cuda.get_device_name(0)}')\n",
    "else:\n",
    "    print('Using CPU')\n",
    "\n",
    "    \n",
    "# переводим модель в training mode\n",
    "model.train()  \n",
    "\n",
    "# устанавливаем seed для воспроизводимости\n",
    "torch.manual_seed(42)\n",
    "if torch.cuda.is_available():\n",
    "    torch.cuda.manual_seed_all(42)\n",
    "    \n",
    "    \n",
    "# определяем критерии остановки обучения если необходимо\n",
    "patience = 5   # количество эпох без улучшения до остановки обучения \n",
    "best_loss = float('inf')\n",
    "epochs_no_improve = 0\n",
    "\n",
    "\n",
    "\n",
    "for epoch in range(num_epochs):\n",
    "    running_loss = 0.0\n",
    "    all_labels = []\n",
    "    all_predictions = []\n",
    "    progress_bar = tqdm(enumerate(train_loader), total=len(train_loader), leave=False)\n",
    "    \n",
    "    for i, (images, labels) in progress_bar:  \n",
    "        images = images.to(device)\n",
    "        labels = labels.to(device)\n",
    "\n",
    "        optimizer.zero_grad()  \n",
    "\n",
    "        outputs = model(images)  # forward pass\n",
    "        loss = criterion(outputs, labels)  # compute the loss\n",
    "        loss.backward()  # backward pass\n",
    "        optimizer.step()  # update the weights\n",
    "\n",
    "        # сохраняем лейблы и предикшены для расчета метрик\n",
    "        _, predictions = torch.max(outputs, 1)\n",
    "        all_labels.extend(labels.cpu().numpy())\n",
    "        all_predictions.extend(predictions.cpu().numpy())\n",
    "\n",
    "        running_loss += loss.item() * images.size(0)\n",
    "        progress_bar.set_description(f\"Epoch {epoch+1} Loss: {running_loss/(i+1):.2f}\")\n",
    "\n",
    "    # рассчитываем метрики\n",
    "    precision = precision_score(all_labels, all_predictions, average=None)\n",
    "    recall = recall_score(all_labels, all_predictions, average=None)\n",
    "    f1 = f1_score(all_labels, all_predictions, average=None)\n",
    "    avg_precision = precision_score(all_labels, all_predictions, average='macro')\n",
    "    avg_recall = recall_score(all_labels, all_predictions, average='macro')\n",
    "    avg_f1 = f1_score(all_labels, all_predictions, average='macro')\n",
    "    accuracy = accuracy_score(all_labels, all_predictions)\n",
    "\n",
    "    epoch_loss = running_loss / len(train_data)\n",
    "    \n",
    "    print(f\"\\nEpoch {epoch+1}, Loss: {epoch_loss:.4f}, Accuracy: {accuracy:.4f}, Precision: {avg_precision:.4f}, \\\n",
    "Recall: {avg_recall:.4f}, F1 Score: {avg_f1:.4f}\")\n",
    "    \n",
    "    scheduler.step(epoch_loss)  # step the learning rate scheduler\n",
    "    \n",
    "\n",
    "    # проверка предварительной остановки обучения\n",
    "    if epoch_loss < best_loss:\n",
    "        best_loss = epoch_loss\n",
    "        epochs_no_improve = 0\n",
    "        best_epoch = epoch+1\n",
    "        model_saving_name = f\"{exp_dir_path}/{experiment_name}_best.pth\"\n",
    "        \n",
    "        # сохраняем лучшую модель\n",
    "        torch.save(model.state_dict(), model_saving_name)\n",
    "        \n",
    "        \n",
    "    else:\n",
    "        epochs_no_improve += 1\n",
    "        if epochs_no_improve >= patience:\n",
    "            print('Оставливаем обучение, модель перестала обучаться')\n",
    "            break\n",
    "    \n",
    "    \n",
    "    # сохраняем последний чекпоинт на случай прерывания обучения\n",
    "    torch.save({\n",
    "    'epoch': epoch,\n",
    "    'model_state_dict': model.state_dict(),\n",
    "    'optimizer_state_dict': optimizer.state_dict(),\n",
    "    'scheduler_state_dict' : scheduler.state_dict(),\n",
    "    'loss': loss,\n",
    "    }, f\"{exp_dir_path}/{experiment_name}_checkpoint.pth\")\n",
    "    \n",
    "    \n",
    "    \n",
    "    # Переключение модели в режим оценки\n",
    "    model.eval()\n",
    "\n",
    "    all_test_labels = []\n",
    "    all_test_predictions = []\n",
    "    running_loss = 0.0\n",
    "\n",
    "    # Итерация по тестовому набору данных\n",
    "    progress_bar = tqdm(enumerate(test_loader), total=len(test_loader), leave=False)\n",
    "    for i, (images, labels) in progress_bar:\n",
    "        images = images.to(device)\n",
    "        labels = labels.to(device)\n",
    "\n",
    "        # Предсказания модели\n",
    "        with torch.no_grad():\n",
    "            outputs = model(images)\n",
    "\n",
    "        # Вычисление потерь\n",
    "        loss = criterion(outputs, labels)\n",
    "        running_loss += loss.item() * images.size(0)\n",
    "\n",
    "        # Сохранение меток и предсказаний\n",
    "        _, predictions = torch.max(outputs, 1)\n",
    "        all_test_labels.extend(labels.cpu().numpy())\n",
    "        all_test_predictions.extend(predictions.cpu().numpy())\n",
    "\n",
    "    # Вычисление финальных метрик\n",
    "    test_loss = running_loss / len(test_data)\n",
    "    test_precision = precision_score(all_test_labels, all_test_predictions, average='macro')\n",
    "    test_recall = recall_score(all_test_labels, all_test_predictions, average='macro')\n",
    "    test_f1 = f1_score(all_test_labels, all_test_predictions, average='macro')\n",
    "    test_accuracy = accuracy_score(all_test_labels, all_test_predictions)\n",
    "\n",
    "    print(f\"Test Loss: {test_loss:.4f}, Test Accuracy: {test_accuracy:.4f}, Test Precision: {test_precision:.4f}, \\\n",
    "Test Recall: {test_recall:.4f}, Test F1 Score: {test_f1:.4f}\")\n",
    "\n",
    "    # метрик по классам\n",
    "    test_precision_class = precision_score(all_test_labels, all_test_predictions, average=None)\n",
    "    test_recall_class = recall_score(all_test_labels, all_test_predictions, average=None)\n",
    "    test_f1_class = f1_score(all_test_labels, all_test_predictions, average=None)\n",
    "\n",
    "    model.train() # переводим модель обратно в training mode"
   ]
  },
  {
   "cell_type": "code",
   "execution_count": 22,
   "id": "17751b4e-46ce-4a44-b8dd-8d25a407053c",
   "metadata": {},
   "outputs": [
    {
     "data": {
      "application/vnd.jupyter.widget-view+json": {
       "model_id": "",
       "version_major": 2,
       "version_minor": 0
      },
      "text/plain": [
       "  0%|          | 0/5 [00:00<?, ?it/s]"
      ]
     },
     "metadata": {},
     "output_type": "display_data"
    },
    {
     "name": "stdout",
     "output_type": "stream",
     "text": [
      "Test Loss: 0.04, Test Accuracy: 0.99, Test Precision: 0.9900970489205784, Test Recall: 0.9899999999999999, Test F1 Score: 0.9899995024628091\n"
     ]
    }
   ],
   "source": [
    "# Загрузка лучшей сохраненной модели\n",
    "model_path = model_saving_name\n",
    "model.load_state_dict(torch.load(model_path))\n",
    "\n",
    "# Переключение модели в режим оценки\n",
    "model.eval()\n",
    "\n",
    "all_labels = []\n",
    "all_predictions = []\n",
    "running_loss = 0.0\n",
    "\n",
    "# Итерация по тестовому набору данных\n",
    "progress_bar = tqdm(enumerate(test_loader), total=len(test_loader), leave=False)\n",
    "for i, (images, labels) in progress_bar:\n",
    "    images = images.to(device)\n",
    "    labels = labels.to(device)\n",
    "\n",
    "    # Предсказания модели\n",
    "    with torch.no_grad():\n",
    "        outputs = model(images)\n",
    "\n",
    "    # Вычисление потерь\n",
    "    loss = criterion(outputs, labels)\n",
    "    running_loss += loss.item() * images.size(0)\n",
    "\n",
    "    # Сохранение меток и предсказаний\n",
    "    _, predictions = torch.max(outputs, 1)\n",
    "    all_labels.extend(labels.cpu().numpy())\n",
    "    all_predictions.extend(predictions.cpu().numpy())\n",
    "\n",
    "# Вычисление финальных метрик\n",
    "test_loss = running_loss / len(test_data)\n",
    "test_precision = precision_score(all_labels, all_predictions, average='macro')\n",
    "test_recall = recall_score(all_labels, all_predictions, average='macro')\n",
    "test_f1 = f1_score(all_labels, all_predictions, average='macro')\n",
    "test_accuracy = accuracy_score(all_labels, all_predictions)\n",
    "\n",
    "print(f\"Test Loss: {test_loss:.2f}, Test Accuracy: {test_accuracy:.2f}, Test Precision: {test_precision}, \\\n",
    "Test Recall: {test_recall}, Test F1 Score: {test_f1}\")\n"
   ]
  },
  {
   "cell_type": "code",
   "execution_count": 24,
   "id": "4eca4320-33eb-497b-a6c7-05872cf56f4e",
   "metadata": {},
   "outputs": [],
   "source": [
    "import pandas as pd\n",
    "from sklearn.metrics import confusion_matrix\n",
    "import seaborn as sns\n",
    "import matplotlib.pyplot as plt"
   ]
  },
  {
   "cell_type": "code",
   "execution_count": 25,
   "id": "3c600e31-c35c-4616-94d9-a210846a7d1c",
   "metadata": {},
   "outputs": [
    {
     "data": {
      "image/png": "[encoded data removed]",
      "text/plain": [
       "<Figure size 1000x700 with 2 Axes>"
      ]
     },
     "metadata": {},
     "output_type": "display_data"
    }
   ],
   "source": [
    "# Compute the confusion matrix\n",
    "cm = confusion_matrix(all_test_labels, all_test_predictions)\n",
    "\n",
    "# Transform it to a DataFrame for easier plotting\n",
    "cm_df = pd.DataFrame(cm, index=train_data.classes, columns=train_data.classes)\n",
    "\n",
    "plt.figure(figsize=(10, 7))\n",
    "\n",
    "# Plot the matrix as a heatmap\n",
    "sns.heatmap(cm_df, annot=True, cmap='Blues', fmt='d')\n",
    "\n",
    "plt.title(\"Confusion Matrix\")\n",
    "plt.ylabel('True label')\n",
    "plt.xlabel('Predicted label')\n",
    "plt.savefig(f'{exp_dir_path}/{experiment_name}_confusion_matrix.png')\n",
    "plt.show()"
   ]
  },
  {
   "cell_type": "code",
   "execution_count": 27,
   "id": "1cf48213-f92a-481f-bcdc-06ef9af4e0c8",
   "metadata": {},
   "outputs": [],
   "source": [
    "del model\n",
    "torch.cuda.empty_cache()  # очищаем GPU"
   ]
  }
 ],
 "metadata": {
  "kernelspec": {
   "display_name": "Python 3 (ipykernel)",
   "language": "python",
   "name": "python3"
  },
  "language_info": {
   "codemirror_mode": {
    "name": "ipython",
    "version": 3
   },
   "file_extension": ".py",
   "mimetype": "text/x-python",
   "name": "python",
   "nbconvert_exporter": "python",
   "pygments_lexer": "ipython3",
   "version": "3.10.13"
  }
 },
 "nbformat": 4,
 "nbformat_minor": 5
}
